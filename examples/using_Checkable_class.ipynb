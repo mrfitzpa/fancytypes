{
 "cells": [
  {
   "cell_type": "markdown",
   "id": "6bb7f461",
   "metadata": {},
   "source": [
    "# Using the ``fancytypes.Checkable`` class #"
   ]
  },
  {
   "cell_type": "markdown",
   "id": "5d6d9cd7",
   "metadata": {},
   "source": [
    "## A NOTE BEFORE STARTING ##"
   ]
  },
  {
   "cell_type": "markdown",
   "id": "880421e9",
   "metadata": {},
   "source": [
    "Since the ``fancytypes`` git repository tracks this notebook under its original\n",
    "basename ``using_Checkable_class.ipynb``, we recommend that you copy the\n",
    "original notebook and rename it to any other basename that is not one of the\n",
    "original basenames that appear in the ``<root>/examples`` directory before\n",
    "executing any of the notebook cells below, where ``<root>`` is the root of the\n",
    "``fancytypes`` repository. This way you can explore the notebook by executing\n",
    "and modifying cells without changing the original notebook, which is being\n",
    "tracked by git."
   ]
  },
  {
   "cell_type": "markdown",
   "id": "12b0d90e",
   "metadata": {},
   "source": [
    "## Import necessary modules ##"
   ]
  },
  {
   "cell_type": "code",
   "execution_count": null,
   "id": "e7f9787f",
   "metadata": {},
   "outputs": [],
   "source": [
    "# For general array handling and constructing random number generators.\n",
    "import numpy as np\n",
    "\n",
    "\n",
    "\n",
    "# The library that is the subject of this demonstration.\n",
    "import fancytypes"
   ]
  },
  {
   "cell_type": "markdown",
   "id": "e667d633",
   "metadata": {},
   "source": [
    "## Introduction ##"
   ]
  },
  {
   "cell_type": "markdown",
   "id": "ec7f2509",
   "metadata": {},
   "source": [
    "In this notebook, we use the ``fancytypes.Checkable`` class to define a class of\n",
    "\"slice shufflers\", which we define as objects that can shuffle/re-order the\n",
    "elements in a slice of a given array. This is a somewhat contrived example use\n",
    "of the ``fancytypes.Checkable`` class, however it is simple and complete. We also\n",
    "test the exception-raising features of the ``fancytypes.Checkable`` class.\n",
    "\n",
    "You can find the documentation for the ``fancytypes.Checkable`` class\n",
    "[here](https://mrfitzpa.github.io/fancytypes/_build/html/_autosummary/fancytypes.Checkable.html). It\n",
    "is recommended that you consult the documentation of this class as you explore\n",
    "the notebook.\n"
   ]
  },
  {
   "cell_type": "markdown",
   "id": "ee0993ba",
   "metadata": {},
   "source": [
    "## Defining the ``SliceShuffler`` class ##"
   ]
  },
  {
   "cell_type": "markdown",
   "id": "21a2529c",
   "metadata": {},
   "source": [
    "We define the ``SliceShuffler`` class as a subclass of the\n",
    "``fancytypes.Checkable`` class."
   ]
  },
  {
   "cell_type": "code",
   "execution_count": null,
   "id": "5bdd09c4",
   "metadata": {},
   "outputs": [],
   "source": [
    "# Define the validation and conversion functions.\n",
    "def _check_and_convert_slice_obj(ctor_params):\n",
    "    slice_obj = ctor_params[\"slice_obj\"]\n",
    "    if not isinstance(slice_obj, slice):\n",
    "        err_msg = (\"The object ``slice_obj`` must be of type `slice`.\")\n",
    "        raise TypeError(err_msg)\n",
    "\n",
    "    return slice_obj  # No conversion for this parameter/attribute.\n",
    "\n",
    "def _check_and_convert_seed(ctor_params):\n",
    "    seed = ctor_params[\"seed\"]\n",
    "    \n",
    "    if seed is not None:\n",
    "        try:\n",
    "            seed = float(seed)\n",
    "            if seed.is_integer():\n",
    "                seed = int(seed)\n",
    "            else:\n",
    "                raise TypeError\n",
    "        except:\n",
    "            err_msg = (\"The object ``seed`` must be an integer or `NoneType`.\")\n",
    "            raise TypeError(err_msg)\n",
    "            \n",
    "    return seed  # Conversion is implied under some circumstances.\n",
    "\n",
    "\n",
    "\n",
    "# Define the ``SliceShuffler`` class.\n",
    "class SliceShuffler(fancytypes.Checkable):\n",
    "    def __init__(self, slice_obj, seed):\n",
    "        ctor_params = {\"slice_obj\": slice_obj, \"seed\": seed}\n",
    "        validation_and_conversion_funcs = \\\n",
    "            {\"slice_obj\": _check_and_convert_slice_obj,\n",
    "             \"seed\": _check_and_convert_seed}\n",
    "        fancytypes.Checkable.__init__(self,\n",
    "                                      ctor_params,\n",
    "                                      validation_and_conversion_funcs)\n",
    "\n",
    "        # ``core_attrs`` are the \"core attributes\" of the instance.\n",
    "        seed = self.core_attrs[\"seed\"]\n",
    "        self._random_generator = np.random.default_rng(seed)\n",
    "\n",
    "        return None\n",
    "\n",
    "\n",
    "\n",
    "    def shuffle(self, array):\n",
    "        try:\n",
    "            array = np.array(array)\n",
    "        except:\n",
    "            err_msg = (\"The object ``array`` must be array-like.\")\n",
    "            raise TypeError(err_msg)\n",
    "            \n",
    "        slice_obj = self.core_attrs[\"slice_obj\"]\n",
    "        array_slice = array[slice_obj]\n",
    "        self._random_generator.shuffle(array_slice)\n",
    "        array[slice_obj] = array_slice\n",
    "\n",
    "        return array"
   ]
  },
  {
   "cell_type": "markdown",
   "id": "fb9e9c81",
   "metadata": {},
   "source": [
    "## Using the ``SliceShuffler`` class ##"
   ]
  },
  {
   "cell_type": "markdown",
   "id": "75f51455",
   "metadata": {},
   "source": [
    "Construct a valid instance of the ``SliceShuffler`` class and print the core attributes."
   ]
  },
  {
   "cell_type": "code",
   "execution_count": null,
   "id": "a886c1d4",
   "metadata": {},
   "outputs": [],
   "source": [
    "slice_shuffler = SliceShuffler(slice_obj=slice(None, 6, 1), seed=5.0)\n",
    "\n",
    "print(slice_shuffler.core_attrs)"
   ]
  },
  {
   "cell_type": "markdown",
   "id": "82d272bb",
   "metadata": {},
   "source": [
    "Shuffle an array using the class."
   ]
  },
  {
   "cell_type": "code",
   "execution_count": null,
   "id": "840cef98",
   "metadata": {},
   "outputs": [],
   "source": [
    "array = [0, 1, 2, 3, 4, 5, 6, 7, 8, 9]\n",
    "shuffled_array = slice_shuffler.shuffle(array)\n",
    "shuffled_array"
   ]
  },
  {
   "cell_type": "markdown",
   "id": "0a5fa68b",
   "metadata": {},
   "source": [
    "Try constructing instances of the ``SliceShuffler`` class with invalid\n",
    "construction parameters."
   ]
  },
  {
   "cell_type": "code",
   "execution_count": null,
   "id": "2d62da34",
   "metadata": {},
   "outputs": [],
   "source": [
    "slice_shuffler = SliceShuffler(slice_obj=3, seed=5.0)"
   ]
  },
  {
   "cell_type": "code",
   "execution_count": null,
   "id": "b1feabd7",
   "metadata": {},
   "outputs": [],
   "source": [
    "slice_shuffler = SliceShuffler(slice_obj=slice(None, 6, 1), seed=\"foo\")"
   ]
  },
  {
   "cell_type": "markdown",
   "id": "bb6e610c",
   "metadata": {},
   "source": [
    "Note that being a direct subclass of the ``fancytypes.Checkable`` class, the\n",
    "``SliceShuffler`` class enforces validation upon construction, but it does not\n",
    "support updatable core attributes, pre-serialization, de-pre-serialization.\n",
    "\n",
    "The ``fancytypes.Updatable`` class supports updatable core attributes, and\n",
    "validation upon constructing or updating instances.\n",
    "\n",
    "The ``fancytypes.PreSerializable`` class supports pre-serialization,\n",
    "de-serialization, and enforces validation upon constructing instances.\n",
    "\n",
    "The ``fancytypes.PreSerializableAndUpdatable`` class supports pre-serialization,\n",
    "de-serialization, updatable core attributes, and enforces validation upon\n",
    "constructing or updating instances."
   ]
  },
  {
   "cell_type": "markdown",
   "id": "ec922cbc",
   "metadata": {},
   "source": [
    "## Testing the exception-raising features of the ``fancytypes.Checkable`` class ##"
   ]
  },
  {
   "cell_type": "markdown",
   "id": "b610eee0",
   "metadata": {},
   "source": [
    "Each cell below tests a different exception raising feature."
   ]
  },
  {
   "cell_type": "code",
   "execution_count": null,
   "id": "8d0daa72",
   "metadata": {},
   "outputs": [],
   "source": [
    "ctor_params = {\"param_1\": 1, \"param_2\": None}\n",
    "\n",
    "def _check_and_convert_param_1(ctor_params):\n",
    "    return ctor_params[\"param_1\"]\n",
    "\n",
    "def _check_and_convert_param_3(ctor_params):\n",
    "    return ctor_params[\"param_3\"]\n",
    "\n",
    "validation_and_conversion_funcs = \\\n",
    "    {\"param_1\": _check_and_convert_param_1,\n",
    "     \"param_3\": _check_and_convert_param_3}\n",
    "\n",
    "fancytypes.Checkable(ctor_params, validation_and_conversion_funcs)"
   ]
  },
  {
   "cell_type": "code",
   "execution_count": null,
   "id": "8cd64b04",
   "metadata": {},
   "outputs": [],
   "source": [
    "ctor_params = {\"param_1\": 1, \"param_2\": None}\n",
    "\n",
    "def _check_and_convert_param_1(ctor_params):\n",
    "    return ctor_params[\"param_1\"]\n",
    "\n",
    "def _check_and_convert_param_3(ctor_params):\n",
    "    return ctor_params[\"param_3\"]\n",
    "\n",
    "validation_and_conversion_funcs = \\\n",
    "    {\"param_1\": _check_and_convert_param_1, \"param_2\": 5}\n",
    "\n",
    "fancytypes.Checkable(ctor_params, validation_and_conversion_funcs)"
   ]
  }
 ],
 "metadata": {
  "kernelspec": {
   "display_name": "Python 3 (ipykernel)",
   "language": "python",
   "name": "python3"
  },
  "language_info": {
   "codemirror_mode": {
    "name": "ipython",
    "version": 3
   },
   "file_extension": ".py",
   "mimetype": "text/x-python",
   "name": "python",
   "nbconvert_exporter": "python",
   "pygments_lexer": "ipython3",
   "version": "3.9.17"
  }
 },
 "nbformat": 4,
 "nbformat_minor": 5
}
