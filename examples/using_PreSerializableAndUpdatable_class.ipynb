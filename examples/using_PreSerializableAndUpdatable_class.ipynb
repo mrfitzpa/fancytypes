{
 "cells": [
  {
   "cell_type": "markdown",
   "id": "6bb7f461",
   "metadata": {},
   "source": [
    "# Using the ``fancytypes.PreSerializableAndUpdatable`` class #"
   ]
  },
  {
   "cell_type": "markdown",
   "id": "5d6d9cd7",
   "metadata": {},
   "source": [
    "## A NOTE BEFORE STARTING ##"
   ]
  },
  {
   "cell_type": "markdown",
   "id": "880421e9",
   "metadata": {},
   "source": [
    "Since the ``fancytypes`` git repository tracks this notebook under its original\n",
    "basename ``using_PreSerializableAndUpdatable_class.ipynb``, we recommend that \n",
    "you copy the original notebook and rename it to any other basename that is not \n",
    "one of the original basenames that appear in the ``<root>/examples`` directory \n",
    "before executing any of the notebook cells below, where ``<root>`` is the root \n",
    "of the ``fancytypes`` repository. This way you can explore the notebook by \n",
    "executing and modifying cells without changing the original notebook, which is \n",
    "being tracked by git."
   ]
  },
  {
   "cell_type": "markdown",
   "id": "12b0d90e",
   "metadata": {},
   "source": [
    "## Import necessary modules ##"
   ]
  },
  {
   "cell_type": "code",
   "execution_count": null,
   "id": "e7f9787f",
   "metadata": {},
   "outputs": [],
   "source": [
    "# For general array handling and constructing random number generators.\n",
    "import numpy as np\n",
    "\n",
    "\n",
    "\n",
    "# The library that is the subject of this demonstration.\n",
    "import fancytypes"
   ]
  },
  {
   "cell_type": "markdown",
   "id": "e667d633",
   "metadata": {},
   "source": [
    "## Introduction ##"
   ]
  },
  {
   "cell_type": "markdown",
   "id": "ec7f2509",
   "metadata": {},
   "source": [
    "In this notebook, we use the ``fancytypes.PreSerializableAndUpdatable`` class to\n",
    "define a class of \"slice shufflers\", which we define as objects that can\n",
    "shuffle/re-order the elements in a slice of a given array. This is a somewhat\n",
    "contrived example use of the ``fancytypes.PreSerializableAndUpdatable`` class,\n",
    "however it is simple and complete. \n",
    "\n",
    "You can find the documentation for the\n",
    "``fancytypes.PreSerializableAndUpdatable`` class\n",
    "[here](https://mrfitzpa.github.io/fancytypes/_build/html/_autosummary/fancytypes.PreSerializableAndUpdatable.html).\n",
    "It is recommended that you consult the documentation of this class as you \n",
    "explore the notebook."
   ]
  },
  {
   "cell_type": "markdown",
   "id": "ee0993ba",
   "metadata": {},
   "source": [
    "## Defining the ``SliceShuffler`` class ##"
   ]
  },
  {
   "cell_type": "markdown",
   "id": "21a2529c",
   "metadata": {},
   "source": [
    "We define the ``SliceShuffler`` class as a subclass of the\n",
    "``fancytypes.PreSerializableAndUpdatable`` class."
   ]
  },
  {
   "cell_type": "code",
   "execution_count": null,
   "id": "5bdd09c4",
   "metadata": {},
   "outputs": [],
   "source": [
    "# Define the validation and conversion functions.\n",
    "def _check_and_convert_slice_obj(ctor_params):\n",
    "    slice_obj = ctor_params[\"slice_obj\"]\n",
    "    if not isinstance(slice_obj, slice):\n",
    "        err_msg = (\"The object ``slice_obj`` must be of type `slice`.\")\n",
    "        raise TypeError(err_msg)\n",
    "\n",
    "    return slice_obj  # No conversion for this parameter/attribute.\n",
    "\n",
    "def _check_and_convert_seed(ctor_params):\n",
    "    seed = ctor_params[\"seed\"]\n",
    "    \n",
    "    if seed is not None:\n",
    "        try:\n",
    "            seed = float(seed)\n",
    "            if seed.is_integer():\n",
    "                seed = int(seed)\n",
    "            else:\n",
    "                raise TypeError\n",
    "        except:\n",
    "            err_msg = (\"The object ``seed`` must be an integer or `NoneType`.\")\n",
    "            raise TypeError(err_msg)\n",
    "            \n",
    "    return seed  # Conversion is implied under some circumstances.\n",
    "\n",
    "\n",
    "\n",
    "# Define the pre-serialization functions.\n",
    "def _pre_serialize_slice_obj(slice_obj):\n",
    "    serializable_rep = {\"start\": slice_obj.start, \n",
    "                        \"stop\": slice_obj.stop, \n",
    "                        \"step\": slice_obj.step}\n",
    "    \n",
    "    return serializable_rep\n",
    "\n",
    "def _pre_serialize_seed(seed):\n",
    "    serializable_rep = seed\n",
    "    \n",
    "    return serializable_rep\n",
    "\n",
    "\n",
    "\n",
    "\n",
    "# Define the de-pre-serialization functions.\n",
    "def _de_pre_serialize_slice_obj(serializable_rep):\n",
    "    slice_obj = slice(serializable_rep[\"start\"], \n",
    "                      serializable_rep[\"stop\"], \n",
    "                      serializable_rep[\"step\"])\n",
    "    \n",
    "    return slice_obj\n",
    "\n",
    "def _de_pre_serialize_seed(serializable_rep):\n",
    "    seed = serializable_rep\n",
    "    \n",
    "    return seed\n",
    "\n",
    "\n",
    "\n",
    "# Define the ``SliceShuffler`` class.\n",
    "class SliceShuffler(fancytypes.PreSerializableAndUpdatable):\n",
    "    _validation_and_conversion_funcs = \\\n",
    "        {\"slice_obj\": _check_and_convert_slice_obj, \n",
    "         \"seed\": _check_and_convert_seed}\n",
    "    \n",
    "    _pre_serialization_funcs = \\\n",
    "        {\"slice_obj\": _pre_serialize_slice_obj, \n",
    "         \"seed\": _pre_serialize_seed}\n",
    "    \n",
    "    _de_pre_serialization_funcs = \\\n",
    "        {\"slice_obj\": _de_pre_serialize_slice_obj, \n",
    "         \"seed\": _de_pre_serialize_seed}\n",
    "    \n",
    "    def __init__(self, slice_obj, seed):\n",
    "        ctor_params = {\"slice_obj\": slice_obj, \"seed\": seed}\n",
    "        fancytypes.PreSerializableAndUpdatable.__init__(self, ctor_params)\n",
    "\n",
    "        # ``core_attrs`` are the \"core attributes\" of the instance.\n",
    "        seed = self.core_attrs[\"seed\"]\n",
    "        self._random_generator = np.random.default_rng(seed)\n",
    "\n",
    "        return None\n",
    "\n",
    "\n",
    "\n",
    "    def shuffle(self, array):\n",
    "        try:\n",
    "            array = np.array(array)\n",
    "        except:\n",
    "            err_msg = (\"The object ``array`` must be array-like.\")\n",
    "            raise TypeError(err_msg)\n",
    "            \n",
    "        slice_obj = self.core_attrs[\"slice_obj\"]\n",
    "        array_slice = array[slice_obj]\n",
    "        self._random_generator.shuffle(array_slice)\n",
    "        array[slice_obj] = array_slice\n",
    "\n",
    "        return array"
   ]
  },
  {
   "cell_type": "markdown",
   "id": "fb9e9c81",
   "metadata": {},
   "source": [
    "## Using the ``SliceShuffler`` class ##"
   ]
  },
  {
   "cell_type": "markdown",
   "id": "75f51455",
   "metadata": {},
   "source": [
    "Construct a valid instance of the ``SliceShuffler`` class and print the core attributes."
   ]
  },
  {
   "cell_type": "code",
   "execution_count": null,
   "id": "a886c1d4",
   "metadata": {},
   "outputs": [],
   "source": [
    "slice_shuffler = SliceShuffler(slice_obj=slice(None, 6, 1), seed=5.0)\n",
    "\n",
    "print(slice_shuffler.core_attrs)"
   ]
  },
  {
   "cell_type": "markdown",
   "id": "82d272bb",
   "metadata": {},
   "source": [
    "Shuffle an array using the class."
   ]
  },
  {
   "cell_type": "code",
   "execution_count": null,
   "id": "840cef98",
   "metadata": {},
   "outputs": [],
   "source": [
    "array = [0, 1, 2, 3, 4, 5, 6, 7, 8, 9]\n",
    "shuffled_array = slice_shuffler.shuffle(array)\n",
    "shuffled_array"
   ]
  },
  {
   "cell_type": "markdown",
   "id": "2176006c",
   "metadata": {},
   "source": [
    "Update slice shuffler and print the core attributes."
   ]
  },
  {
   "cell_type": "code",
   "execution_count": null,
   "id": "c874d737",
   "metadata": {},
   "outputs": [],
   "source": [
    "core_attr_subset = {\"slice_obj\": slice(3, None, 1)}\n",
    "slice_shuffler.update(core_attr_subset)\n",
    "\n",
    "print(slice_shuffler.core_attrs)"
   ]
  },
  {
   "cell_type": "markdown",
   "id": "4e8df637",
   "metadata": {},
   "source": [
    "Shuffle the original array again."
   ]
  },
  {
   "cell_type": "code",
   "execution_count": null,
   "id": "1831c0d1",
   "metadata": {},
   "outputs": [],
   "source": [
    "shuffled_array = slice_shuffler.shuffle(array)\n",
    "shuffled_array"
   ]
  },
  {
   "cell_type": "markdown",
   "id": "9e918d08",
   "metadata": {},
   "source": [
    "Update slice shuffler and print the core attributes."
   ]
  },
  {
   "cell_type": "code",
   "execution_count": null,
   "id": "39e00c5f",
   "metadata": {},
   "outputs": [],
   "source": [
    "core_attr_subset = {\"slice_obj\": slice(3, 7, 1), \"seed\": 1.0}\n",
    "slice_shuffler.update(core_attr_subset)\n",
    "\n",
    "print(slice_shuffler.core_attrs)"
   ]
  },
  {
   "cell_type": "markdown",
   "id": "08513c04",
   "metadata": {},
   "source": [
    "Shuffle the original array again."
   ]
  },
  {
   "cell_type": "code",
   "execution_count": null,
   "id": "948a389e",
   "metadata": {},
   "outputs": [],
   "source": [
    "shuffled_array = slice_shuffler.shuffle(array)\n",
    "shuffled_array"
   ]
  },
  {
   "cell_type": "markdown",
   "id": "086b0633",
   "metadata": {},
   "source": [
    "Pre-serialize instance. You could then serialize the serializable representation\n",
    "using the ``json``."
   ]
  },
  {
   "cell_type": "code",
   "execution_count": null,
   "id": "67dd3834",
   "metadata": {},
   "outputs": [],
   "source": [
    "serializable_rep = slice_shuffler.pre_serialize()\n",
    "serializable_rep"
   ]
  },
  {
   "cell_type": "markdown",
   "id": "b92e8aa8",
   "metadata": {},
   "source": [
    "Alternatively, you could serialize the instance of the class by using the\n",
    "``dumps`` method."
   ]
  },
  {
   "cell_type": "code",
   "execution_count": null,
   "id": "60f806b1",
   "metadata": {},
   "outputs": [],
   "source": [
    "serialized_rep = slice_shuffler.dumps()\n",
    "serialized_rep"
   ]
  },
  {
   "cell_type": "markdown",
   "id": "57fd0558",
   "metadata": {},
   "source": [
    "You can also serialize the instance and save the result to a JSON file in one go\n",
    "using the ``dump`` method."
   ]
  },
  {
   "cell_type": "code",
   "execution_count": null,
   "id": "46ca46d2",
   "metadata": {},
   "outputs": [],
   "source": [
    "filename = \"slice_shuffler.json\"\n",
    "slice_shuffler.dump(filename, overwrite=True)"
   ]
  },
  {
   "cell_type": "markdown",
   "id": "cb2e4130",
   "metadata": {},
   "source": [
    "Trying to save a serialized representation to a pre-existing that with\n",
    "``overwrite==False`` will raise an exception."
   ]
  },
  {
   "cell_type": "code",
   "execution_count": null,
   "id": "381667c0",
   "metadata": {},
   "outputs": [],
   "source": [
    "filename = \"slice_shuffler.json\"\n",
    "slice_shuffler.dump(filename, overwrite=False)"
   ]
  },
  {
   "cell_type": "markdown",
   "id": "dcf27252",
   "metadata": {},
   "source": [
    "Reconstruct the instance of ``SliceShuffler`` from the serialized\n",
    "representation."
   ]
  },
  {
   "cell_type": "code",
   "execution_count": null,
   "id": "75f596fc",
   "metadata": {},
   "outputs": [],
   "source": [
    "slice_shuffler = SliceShuffler.loads(serialized_rep)\n",
    "print(slice_shuffler.core_attrs)"
   ]
  },
  {
   "cell_type": "markdown",
   "id": "e67331b6",
   "metadata": {},
   "source": [
    "Reconstruct the instance of ``SliceShuffler`` from the serialized\n",
    "representation saved in the JSON file."
   ]
  },
  {
   "cell_type": "code",
   "execution_count": null,
   "id": "a8e1c074",
   "metadata": {},
   "outputs": [],
   "source": [
    "slice_shuffler = SliceShuffler.load(filename)\n",
    "print(slice_shuffler.core_attrs)"
   ]
  },
  {
   "cell_type": "markdown",
   "id": "6a62e86d",
   "metadata": {},
   "source": [
    "De-pre-serialize, i.e. construct an instance from a serializable representation."
   ]
  },
  {
   "cell_type": "code",
   "execution_count": null,
   "id": "c9ed734d",
   "metadata": {},
   "outputs": [],
   "source": [
    "slice_shuffler = SliceShuffler.de_pre_serialize(serializable_rep)\n",
    "\n",
    "print(slice_shuffler.core_attrs)"
   ]
  },
  {
   "cell_type": "markdown",
   "id": "0a5fa68b",
   "metadata": {},
   "source": [
    "Try constructing instances of the ``SliceShuffler`` class with invalid\n",
    "construction parameters."
   ]
  },
  {
   "cell_type": "code",
   "execution_count": null,
   "id": "2d62da34",
   "metadata": {},
   "outputs": [],
   "source": [
    "slice_shuffler = SliceShuffler(slice_obj=3, seed=5.0)"
   ]
  },
  {
   "cell_type": "code",
   "execution_count": null,
   "id": "b1feabd7",
   "metadata": {},
   "outputs": [],
   "source": [
    "slice_shuffler = SliceShuffler(slice_obj=slice(None, 6, 1), seed=\"foo\")"
   ]
  },
  {
   "cell_type": "markdown",
   "id": "bb6e610c",
   "metadata": {},
   "source": [
    "Note that being a direct subclass of the\n",
    "``fancytypes.PreSerializableAndUpdatable`` class, the ``SliceShuffler`` class\n",
    "enforces validation upon construction, and supports pre-serialization and\n",
    "de-pre-serialization, and updatable core attributes.\n",
    "\n",
    "The ``fancytypes.Checkable`` class only supports validation upon constructing\n",
    "instances.\n",
    "\n",
    "The ``fancytypes.Updatable`` class supports updatable core attributes, and\n",
    "validation upon constructing or updating instances, but it does not support\n",
    "pre-serialization or de-pre-serialization.\n",
    "\n",
    "The ``fancytypes.PreSerializable`` class supports pre-serialization,\n",
    "de-serialization, and enforces validation upon constructing or updating\n",
    "instances, but it does not support updatable core attributes."
   ]
  },
  {
   "cell_type": "markdown",
   "id": "ec922cbc",
   "metadata": {},
   "source": [
    "## Testing the exception-raising features of the ``fancytypes.PreSerializableAndUpdatable`` class ##"
   ]
  },
  {
   "cell_type": "markdown",
   "id": "b610eee0",
   "metadata": {},
   "source": [
    "There are no exception-raising features supported by the\n",
    "``fancytypes.PreSerializableAndUpdatable`` class that have not already been\n",
    "tested for the ``fancytypes.Checkable``, ``fancytypes.Updatable``, and\n",
    "``fancytypes.PreSerializable`` classes in the notebooks\n",
    "``using_Checkable_class.ipynb``, ``using_Updatable_class.ipynb``, and\n",
    "``using_PreSerializable_class.ipynb`` respectively, found in the same directory\n",
    "containing the current notebook."
   ]
  }
 ],
 "metadata": {
  "kernelspec": {
   "display_name": "Python 3 (ipykernel)",
   "language": "python",
   "name": "python3"
  },
  "language_info": {
   "codemirror_mode": {
    "name": "ipython",
    "version": 3
   },
   "file_extension": ".py",
   "mimetype": "text/x-python",
   "name": "python",
   "nbconvert_exporter": "python",
   "pygments_lexer": "ipython3",
   "version": "3.9.17"
  }
 },
 "nbformat": 4,
 "nbformat_minor": 5
}
