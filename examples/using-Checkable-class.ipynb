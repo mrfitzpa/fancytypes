{
 "cells": [
  {
   "cell_type": "markdown",
   "id": "6bb7f461",
   "metadata": {},
   "source": [
    "# Using the ``fancytypes.Checkable`` class #"
   ]
  },
  {
   "cell_type": "markdown",
   "id": "5d6d9cd7",
   "metadata": {},
   "source": [
    "## A NOTE BEFORE STARTING ##"
   ]
  },
  {
   "cell_type": "markdown",
   "id": "880421e9",
   "metadata": {},
   "source": [
    "Since the ``fancytypes`` git repository tracks this notebook under its original\n",
    "basename ``using-Checkable-class.ipynb``, we recommend that you copy the\n",
    "original notebook and rename it to any other basename that is not one of the\n",
    "original basenames that appear in the ``<root>/examples`` directory before\n",
    "executing any of the notebook cells below, where ``<root>`` is the root of the\n",
    "``fancytypes`` repository. This way you can explore the notebook by executing\n",
    "and modifying cells without changing the original notebook, which is being\n",
    "tracked by git."
   ]
  },
  {
   "cell_type": "markdown",
   "id": "12b0d90e",
   "metadata": {},
   "source": [
    "## Import necessary modules ##"
   ]
  },
  {
   "cell_type": "code",
   "execution_count": 2,
   "id": "670c9ced",
   "metadata": {},
   "outputs": [],
   "source": [
    "# Auto-reloading modules after changes have been made.\n",
    "%load_ext autoreload\n",
    "%autoreload 2"
   ]
  },
  {
   "cell_type": "code",
   "execution_count": 3,
   "id": "e7f9787f",
   "metadata": {},
   "outputs": [],
   "source": [
    "# For general array handling.\n",
    "import numpy as np\n",
    "\n",
    "\n",
    "\n",
    "# Contains a collection of functions that facilitate validation and \n",
    "# type-conversions, with useful error messages when exceptions are thrown.\n",
    "import czekitout.convert\n",
    "\n",
    "\n",
    "\n",
    "# The library that is the subject of this demonstration.\n",
    "import fancytypes"
   ]
  },
  {
   "cell_type": "markdown",
   "id": "e667d633",
   "metadata": {},
   "source": [
    "## Introduction ##"
   ]
  },
  {
   "cell_type": "markdown",
   "id": "ec7f2509",
   "metadata": {},
   "source": [
    "In this notebook, we use the ``fancytypes.Checkable`` class to represent a class\n",
    "of \"slice shufflers\", which we define as objects that can shuffle/re-order the\n",
    "elements in a slice of a given array. This is a somewhat contrived example use\n",
    "of the ``fancytypes.Checkable`` class, however it is simple and complete. We also\n",
    "test the exception-raising features of the ``fancytypes.Checkable`` class.\n",
    "\n",
    "You can find the documentation for the ``fancytypes.Checkable`` class [here](url_here). It\n",
    "is recommended that you consult the documentation of this class as you explore\n",
    "the notebook."
   ]
  },
  {
   "cell_type": "markdown",
   "id": "ec922cbc",
   "metadata": {},
   "source": [
    "## Constructing error-free instances of the ``fancytypes.Checkable`` class ##"
   ]
  },
  {
   "cell_type": "code",
   "execution_count": null,
   "id": "e65e57a5",
   "metadata": {},
   "outputs": [],
   "source": [
    "#-------------------------------------------------------------------------------\n",
    "ctor_params = {\"center\": [1.5, -1], \"width\": 4, \"height\": 2.5}\n",
    "\n",
    "def _check_and_convert_center(ctor_params):\n",
    "    center = ctor_params[\"center\"]\n",
    "    center = czekitout.convert.to_pair_of_floats(center, \"center\")\n",
    "    \n",
    "    return center\n",
    "\n",
    "def _check_and_convert_width(ctor_params):\n",
    "    width = ctor_params[\"width\"]\n",
    "    width = czekitout.convert.to_positive_float(width, \"width\")\n",
    "    \n",
    "    return width\n",
    "\n",
    "def _check_and_convert_height(ctor_params):\n",
    "    height = ctor_params[\"height\"]\n",
    "    height = czekitout.convert.to_positive_float(height, \"height\")\n",
    "    \n",
    "    return height\n",
    "\n",
    "validation_and_conversion_funcs = {\"center\": _check_and_convert_center, \n",
    "                                   \"width\": _check_and_convert_width,\n",
    "                                   \"height\": _check_and_convert_height}"
   ]
  },
  {
   "cell_type": "markdown",
   "id": "06fd4c23",
   "metadata": {},
   "source": [
    "### Beam properties ###"
   ]
  },
  {
   "cell_type": "markdown",
   "id": "78a1c66e",
   "metadata": {},
   "source": [
    "#### Beam energy ####"
   ]
  },
  {
   "cell_type": "code",
   "execution_count": null,
   "id": "e5b8893d",
   "metadata": {},
   "outputs": [],
   "source": [
    "# Lower-level programmatic approach.\n",
    "prismatique_file_obj = h5py.File(\"output-files/stem-simulation-output.h5\", 'r')\n",
    "prismatique_path = \"STEM simulation output/beam energy\"\n",
    "dataset = prismatique_file_obj[prismatique_path]\n",
    "\n",
    "print(\"beam energy =\", dataset[()])\n",
    "print(\"units:\", dataset.attrs[\"units\"])\n",
    "\n",
    "prismatique_file_obj.close()"
   ]
  },
  {
   "cell_type": "code",
   "execution_count": null,
   "id": "04ed240c",
   "metadata": {},
   "outputs": [],
   "source": [
    "# Higher-level programmatic approach.\n",
    "sim_output_filename = \"output-files/stem-simulation-output.h5\"\n",
    "load_beam_energy = prismatique.sim.output.common.load_beam_energy\n",
    "beam_energy = load_beam_energy(sim_output_filename)\n",
    "\n",
    "print(\"beam energy =\", beam_energy)  # In units of keV."
   ]
  },
  {
   "cell_type": "markdown",
   "id": "ef55f19d",
   "metadata": {},
   "source": [
    "#### Beam electron wavelength ####"
   ]
  },
  {
   "cell_type": "code",
   "execution_count": null,
   "id": "7be6ab99",
   "metadata": {},
   "outputs": [],
   "source": [
    "# Lower-level programmatic approach.\n",
    "prismatique_file_obj = h5py.File(\"output-files/stem-simulation-output.h5\", 'r')\n",
    "prismatique_path = \"STEM simulation output/beam electron wavelength\"\n",
    "dataset = prismatique_file_obj[prismatique_path]\n",
    "\n",
    "print(\"beam electron wavelength =\", dataset[()])\n",
    "print(\"units:\", dataset.attrs[\"units\"])\n",
    "\n",
    "prismatique_file_obj.close()"
   ]
  },
  {
   "cell_type": "code",
   "execution_count": null,
   "id": "050cd1e0",
   "metadata": {},
   "outputs": [],
   "source": [
    "# Lower-level programmatic approach.\n",
    "sim_output_filename = \"output-files/stem-simulation-output.h5\"\n",
    "load_beam_electron_wavelength = \\\n",
    "    prismatique.sim.output.common.load_beam_electron_wavelength\n",
    "beam_electron_wavelength = load_beam_electron_wavelength(sim_output_filename)\n",
    "\n",
    "print(\"beam electron wavelength =\", beam_electron_wavelength)  # In units of Å."
   ]
  },
  {
   "cell_type": "markdown",
   "id": "ef5017b9",
   "metadata": {},
   "source": [
    "#### Convergence semiangle ####"
   ]
  },
  {
   "cell_type": "code",
   "execution_count": null,
   "id": "27c910e8",
   "metadata": {},
   "outputs": [],
   "source": [
    "# Lower-level programmatic approach.\n",
    "prismatique_file_obj = h5py.File(\"output-files/stem-simulation-output.h5\", 'r')\n",
    "prismatique_path = \"STEM simulation output/convergence semiangle\"\n",
    "dataset = prismatique_file_obj[prismatique_path]\n",
    "\n",
    "print(\"convergence semiangle =\", dataset[()])\n",
    "print(\"units:\", dataset.attrs[\"units\"])\n",
    "\n",
    "prismatique_file_obj.close()"
   ]
  },
  {
   "cell_type": "code",
   "execution_count": null,
   "id": "b7141fef",
   "metadata": {},
   "outputs": [],
   "source": [
    "# Higher-level programmatic approach.\n",
    "sim_output_filename = \"output-files/stem-simulation-output.h5\"\n",
    "load_convergence_semiangle = \\\n",
    "    prismatique.sim.output.stem.load_convergence_semiangle\n",
    "convergence_semiangle = load_convergence_semiangle(sim_output_filename)\n",
    "\n",
    "print(\"convergence semiangle =\", convergence_semiangle)  # In units of mrads."
   ]
  },
  {
   "cell_type": "markdown",
   "id": "cdecd608",
   "metadata": {},
   "source": [
    "#### Tilt ####"
   ]
  },
  {
   "cell_type": "code",
   "execution_count": null,
   "id": "c40127d3",
   "metadata": {},
   "outputs": [],
   "source": [
    "# Lower-level programmatic approach.\n",
    "prismatique_file_obj = h5py.File(\"output-files/stem-simulation-output.h5\", 'r')\n",
    "prismatique_path = \"STEM simulation output/tilt\"\n",
    "dataset = prismatique_file_obj[prismatique_path]\n",
    "\n",
    "print(\"tilt =\", tuple(dataset[()]))\n",
    "print(\"dim 1:\", dataset.attrs[\"dim 1\"])\n",
    "print(\"units:\", dataset.attrs[\"units\"])\n",
    "\n",
    "prismatique_file_obj.close()"
   ]
  },
  {
   "cell_type": "code",
   "execution_count": null,
   "id": "2b1db72d",
   "metadata": {},
   "outputs": [],
   "source": [
    "# Higher-level programmatic approach.\n",
    "sim_output_filename = \"output-files/stem-simulation-output.h5\"\n",
    "tilt = prismatique.sim.output.stem.load_tilt(sim_output_filename)\n",
    "\n",
    "print(\"tilt =\", tilt)  # In units of mrads."
   ]
  },
  {
   "cell_type": "markdown",
   "id": "8c62b0f2",
   "metadata": {},
   "source": [
    "### Probe positions ###"
   ]
  },
  {
   "cell_type": "code",
   "execution_count": null,
   "id": "1307acc8",
   "metadata": {},
   "outputs": [],
   "source": [
    "# Lower-level programmatic approach.\n",
    "prismatique_file_obj = h5py.File(\"output-files/stem-simulation-output.h5\", 'r')\n",
    "prismatique_path = \"STEM simulation output/probe positions\"\n",
    "dataset = prismatique_file_obj[prismatique_path]\n",
    "probe_positions = dataset[()]\n",
    "\n",
    "print(\"probe positions:\")\n",
    "print(dataset[()])\n",
    "print(\"dim 1:\", dataset.attrs[\"dim 1\"])\n",
    "print(\"dim 2:\", dataset.attrs[\"dim 2\"])\n",
    "print(\"units:\", dataset.attrs[\"units\"])\n",
    "print(\"pattern type:\", dataset.attrs[\"pattern type\"])\n",
    "print(\"grid dimensions in units of probe shifts:\", \n",
    "      dataset.attrs[\"grid dimensions in units of probe shifts\"])\n",
    "\n",
    "prismatique_file_obj.close()"
   ]
  },
  {
   "cell_type": "code",
   "execution_count": null,
   "id": "d8b5f150",
   "metadata": {},
   "outputs": [],
   "source": [
    "# Higher-level programmatic approach.\n",
    "sim_output_filename = \"output-files/stem-simulation-output.h5\"\n",
    "\n",
    "load_probe_positions = \\\n",
    "    prismatique.sim.output.stem.load_probe_positions\n",
    "probe_positions = load_probe_positions(sim_output_filename)\n",
    "\n",
    "load_scan_pattern_type = \\\n",
    "    prismatique.sim.output.stem.load_scan_pattern_type\n",
    "scan_pattern_type = load_scan_pattern_type(sim_output_filename)\n",
    "\n",
    "load_grid_dimensions_in_units_of_probe_shifts = \\\n",
    "    prismatique.sim.output.stem.load_grid_dimensions_in_units_of_probe_shifts\n",
    "grid_dimensions_in_units_of_probe_shifts = \\\n",
    "    load_grid_dimensions_in_units_of_probe_shifts(sim_output_filename)\n",
    "\n",
    "print(\"probe positions:\")\n",
    "print(probe_positions)\n",
    "print(\"pattern type:\", scan_pattern_type)\n",
    "print(\"grid dimensions in units of probe shifts:\", \n",
    "      grid_dimensions_in_units_of_probe_shifts)"
   ]
  },
  {
   "cell_type": "markdown",
   "id": "d2b73dd1",
   "metadata": {},
   "source": [
    "### Defocii ###"
   ]
  },
  {
   "cell_type": "code",
   "execution_count": null,
   "id": "65243485",
   "metadata": {},
   "outputs": [],
   "source": [
    "# Lower-level programmatic approach.\n",
    "prismatique_file_obj = h5py.File(\"output-files/stem-simulation-output.h5\", 'r')\n",
    "prismatique_path = \"STEM simulation output/defocii\"\n",
    "dataset = prismatique_file_obj[prismatique_path]\n",
    "\n",
    "print(\"defocii:\")\n",
    "print(dataset[()])\n",
    "print(\"dim 1:\", dataset.attrs[\"dim 1\"])\n",
    "print(\"units:\", dataset.attrs[\"units\"])\n",
    "\n",
    "prismatique_file_obj.close()"
   ]
  },
  {
   "cell_type": "code",
   "execution_count": null,
   "id": "828b8fb5",
   "metadata": {},
   "outputs": [],
   "source": [
    "# Higher-level programmatic approach.\n",
    "sim_output_filename = \"output-files/stem-simulation-output.h5\"\n",
    "defocii = prismatique.sim.output.common.load_defocii(sim_output_filename)\n",
    "\n",
    "print(\"defocii:\")\n",
    "print(defocii)  # In units of Å."
   ]
  },
  {
   "cell_type": "markdown",
   "id": "7ef6d879",
   "metadata": {},
   "source": [
    "### Slice thickness ###"
   ]
  },
  {
   "cell_type": "code",
   "execution_count": null,
   "id": "9be63b70",
   "metadata": {},
   "outputs": [],
   "source": [
    "# Lower-level programmatic approach.\n",
    "prismatique_file_obj = h5py.File(\"output-files/stem-simulation-output.h5\", 'r')\n",
    "prismatique_path = \"STEM simulation output/slice thickness\"\n",
    "dataset = prismatique_file_obj[prismatique_path]\n",
    "\n",
    "print(\"slice thickness:\")\n",
    "print(dataset[()])\n",
    "print(\"units:\", dataset.attrs[\"units\"])\n",
    "\n",
    "prismatique_file_obj.close()"
   ]
  },
  {
   "cell_type": "code",
   "execution_count": null,
   "id": "74157cd9",
   "metadata": {},
   "outputs": [],
   "source": [
    "# Higher-level programmatic approach.\n",
    "sim_output_filename = \"output-files/stem-simulation-output.h5\"\n",
    "load_slice_thickness = \\\n",
    "    prismatique.sim.output.common.load_slice_thickness\n",
    "slice_thickness = load_slice_thickness(sim_output_filename)\n",
    "\n",
    "print(\"slice thickness =\", slice_thickness)  # In units of Å."
   ]
  },
  {
   "cell_type": "markdown",
   "id": "51fac9e7",
   "metadata": {},
   "source": [
    "### Output layer depths ###"
   ]
  },
  {
   "cell_type": "code",
   "execution_count": null,
   "id": "803cfd2f",
   "metadata": {},
   "outputs": [],
   "source": [
    "# Lower-level programmatic approach.\n",
    "prismatique_file_obj = h5py.File(\"output-files/stem-simulation-output.h5\", 'r')\n",
    "prismatique_path = \"STEM simulation output/output layer depths\"\n",
    "dataset = prismatique_file_obj[prismatique_path]\n",
    "\n",
    "print(\"output layer depths:\")\n",
    "print(dataset[()])\n",
    "print(\"dim 1:\", dataset.attrs[\"dim 1\"])\n",
    "print(\"units:\", dataset.attrs[\"units\"])\n",
    "\n",
    "prismatique_file_obj.close()"
   ]
  },
  {
   "cell_type": "code",
   "execution_count": null,
   "id": "3cdd6360",
   "metadata": {},
   "outputs": [],
   "source": [
    "# Higher-level programmatic approach.\n",
    "sim_output_filename = \"output-files/stem-simulation-output.h5\"\n",
    "load_output_layer_depths = \\\n",
    "    prismatique.sim.output.stem.load_output_layer_depths\n",
    "output_layer_depths = load_output_layer_depths(sim_output_filename)\n",
    "\n",
    "print(\"output layer depths:\")  # In units of Å. \n",
    "print(output_layer_depths)"
   ]
  },
  {
   "cell_type": "markdown",
   "id": "fd1da0c4",
   "metadata": {},
   "source": [
    "### $k_x$ ###"
   ]
  },
  {
   "cell_type": "code",
   "execution_count": null,
   "id": "847d3674",
   "metadata": {},
   "outputs": [],
   "source": [
    "# Lower-level programmatic approach.\n",
    "prismatique_file_obj = h5py.File(\"output-files/stem-simulation-output.h5\", 'r')\n",
    "prismatique_path = \"STEM simulation output/kx\"\n",
    "dataset = prismatique_file_obj[prismatique_path]\n",
    "\n",
    "print(\"kx:\")\n",
    "print(dataset[()])\n",
    "print(\"dim 1:\", dataset.attrs[\"dim 1\"])\n",
    "print(\"units:\", dataset.attrs[\"units\"])\n",
    "\n",
    "prismatique_file_obj.close()"
   ]
  },
  {
   "cell_type": "code",
   "execution_count": null,
   "id": "38a0f9dd",
   "metadata": {},
   "outputs": [],
   "source": [
    "# Higher-level programmatic approach.\n",
    "sim_output_filename = \"output-files/stem-simulation-output.h5\"\n",
    "kx = prismatique.sim.output.stem.load_kx(sim_output_filename)\n",
    "\n",
    "print(\"kx:\")  # In units of 1/Å.\n",
    "print(kx)"
   ]
  },
  {
   "cell_type": "markdown",
   "id": "abe0defc",
   "metadata": {},
   "source": [
    "### $k_y$ ###"
   ]
  },
  {
   "cell_type": "code",
   "execution_count": null,
   "id": "690bafa7",
   "metadata": {},
   "outputs": [],
   "source": [
    "# Lower-level programmatic approach.\n",
    "prismatique_file_obj = h5py.File(\"output-files/stem-simulation-output.h5\", 'r')\n",
    "prismatique_path = \"STEM simulation output/ky\"\n",
    "dataset = prismatique_file_obj[prismatique_path]\n",
    "\n",
    "print(\"ky:\")\n",
    "print(dataset[()])\n",
    "print(\"dim 1:\", dataset.attrs[\"dim 1\"])\n",
    "print(\"units:\", dataset.attrs[\"units\"])\n",
    "\n",
    "prismatique_file_obj.close()"
   ]
  },
  {
   "cell_type": "code",
   "execution_count": null,
   "id": "42f939ca",
   "metadata": {},
   "outputs": [],
   "source": [
    "# Higher-level programmatic approach. Note that in the higher-level\n",
    "# approach, ``ky`` is read in reverse order compared to the lower-level\n",
    "# approach above.\n",
    "sim_output_filename = \"output-files/stem-simulation-output.h5\"\n",
    "ky = prismatique.sim.output.stem.load_ky(sim_output_filename)\n",
    "\n",
    "print(\"ky:\")  # In units of 1/Å.\n",
    "print(ky)"
   ]
  },
  {
   "cell_type": "markdown",
   "id": "ea9646f9",
   "metadata": {},
   "source": [
    "### 4D STEM output ###"
   ]
  },
  {
   "cell_type": "markdown",
   "id": "2dcc1187",
   "metadata": {},
   "source": [
    "#### A single diffraction pattern ####"
   ]
  },
  {
   "cell_type": "code",
   "execution_count": null,
   "id": "9eb2e111",
   "metadata": {},
   "outputs": [],
   "source": [
    "# Higher-level programmatic approach.\n",
    "defocus_idx = 0\n",
    "output_layer_idx = 0\n",
    "probe_idx = 0\n",
    "kwargs = {\"sim_output_filename\": \"output-files/stem-simulation-output.h5\",\n",
    "          \"indices\": (defocus_idx, output_layer_idx, probe_idx)}\n",
    "\n",
    "diffraction_pattern = \\\n",
    "    prismatique.sim.output.stem.load_4D_STEM_DP(**kwargs)"
   ]
  },
  {
   "cell_type": "code",
   "execution_count": null,
   "id": "f3cc8675",
   "metadata": {},
   "outputs": [],
   "source": [
    "diffraction_pattern.metadata"
   ]
  },
  {
   "cell_type": "code",
   "execution_count": null,
   "id": "a9d339a3",
   "metadata": {},
   "outputs": [],
   "source": [
    "# Note that you may need to resize the figure by dragging the bottom right arrow\n",
    "# on the inline figure frame in order for it to appear. Also note that the\n",
    "# ``scalebar`` keyword argument, when set to ``True``, will only result in a\n",
    "# figure containing a scale bar if the pixel sizes in the kx and ky directions\n",
    "# differ by no more than 1.0e-10, i.e. if the pixels are approximately squares.\n",
    "kwargs = {\"colorbar\": True, \n",
    "          \"gamma\": 0.2, \n",
    "          \"scalebar\": True, \n",
    "          \"axes_ticks\": True,  \n",
    "          \"vmin\": 0, \n",
    "          \"vmax\": 0.0015, \n",
    "          \"cmap\": plt.get_cmap(\"jet\")}\n",
    "diffraction_pattern.plot(**kwargs)"
   ]
  },
  {
   "cell_type": "markdown",
   "id": "5239f24d",
   "metadata": {},
   "source": [
    "#### Diffraction pattern set (i.e. the 4D-STEM data set) ####"
   ]
  },
  {
   "cell_type": "code",
   "execution_count": null,
   "id": "ed7f08d2",
   "metadata": {},
   "outputs": [],
   "source": [
    "# Higher-level programmatic approach.\n",
    "defocus_idx = 0\n",
    "output_layer_idx = 0\n",
    "kwargs = {\"sim_output_filename\": \"output-files/stem-simulation-output.h5\",\n",
    "          \"indices\": (defocus_idx, output_layer_idx)}\n",
    "\n",
    "DP_set = prismatique.sim.output.stem.load_4D_STEM_DP_set(**kwargs)"
   ]
  },
  {
   "cell_type": "code",
   "execution_count": null,
   "id": "c82f2348",
   "metadata": {},
   "outputs": [],
   "source": [
    "DP_set.metadata"
   ]
  },
  {
   "cell_type": "code",
   "execution_count": null,
   "id": "910b3e9d",
   "metadata": {},
   "outputs": [],
   "source": [
    "# Note that you may need to resize each figure by dragging the bottom right \n",
    "# arrow on each inline figure frame in order for it to appear. Also note that \n",
    "# the ``scalebar`` keyword argument, when set to ``True``, will only result in\n",
    "# a bottom/signal figure containing a scale bar if the pixel sizes in the kx \n",
    "# and ky directions differ by no more than 1.0e-10, i.e. if the pixels are \n",
    "# approximately squares. \n",
    "\n",
    "# The top/navigator figure should contain a vertical red line that indicates \n",
    "# the current diffraction pattern being displayed in bottom/signal figure. If \n",
    "# you cannot see it, it is because it has been initialized at the zeroth probe \n",
    "# index or the last, both of which are likely just outside of the field of \n",
    "# view of the navigator plot, or being blocked by the left and right y-axes.\n",
    "# If this is the case, you can still drag the red line to a different probe\n",
    "# index. E.g. in the case that the red line is behind the left y-axis, just\n",
    "# click and hold anywhere on the left y-axis, and then drag to the right. \n",
    "# Upon doing so, you should see the red line follow your cursor. As the red\n",
    "# line is dragged across from one probe index to another, the bottom/signal\n",
    "# figure will update to the diffraction pattern corresponding to the probe\n",
    "# index selected by the red line. An alternative way to select a different\n",
    "# diffraction pattern is to click on the bottom/signal figure, and then use\n",
    "# the left and right arrow keys.\n",
    "\n",
    "# The top figure\n",
    "kwargs = {\"colorbar\": True, \n",
    "          \"gamma\": 0.2, \n",
    "          \"scalebar\": True, \n",
    "          \"axes_ticks\": True,  \n",
    "          \"vmin\": 0, \n",
    "          \"vmax\": 0.0015, \n",
    "          \"cmap\": plt.get_cmap(\"jet\")}\n",
    "DP_set.plot(**kwargs)"
   ]
  },
  {
   "cell_type": "markdown",
   "id": "358ebb65",
   "metadata": {},
   "source": [
    "### Incident probe ###"
   ]
  },
  {
   "cell_type": "code",
   "execution_count": null,
   "id": "9e429b6e",
   "metadata": {},
   "outputs": [],
   "source": [
    "# Higher-level programmatic approach.\n",
    "kwargs = {\"sim_output_filename\": \"output-files/stem-simulation-output.h5\",\n",
    "          \"defocus_idx\": 0}\n",
    "\n",
    "incident_probe = prismatique.sim.output.stem.load_incident_probe(**kwargs)"
   ]
  },
  {
   "cell_type": "code",
   "execution_count": null,
   "id": "fe3f5ade",
   "metadata": {},
   "outputs": [],
   "source": [
    "incident_probe.metadata"
   ]
  },
  {
   "cell_type": "code",
   "execution_count": null,
   "id": "a9ba163e",
   "metadata": {},
   "outputs": [],
   "source": [
    "# Note that you may need to resize the figure by dragging the bottom right arrow\n",
    "# on the inline figure frame in order for it to appear. Also note that the\n",
    "# ``scalebar`` keyword argument, when set to ``True``, will only result in a\n",
    "# figure containing a scale bar if the pixel sizes in the kx and ky directions\n",
    "# differ by no more than 1.0e-10, i.e. if the pixels are approximately squares.\n",
    "kwargs = {\"colorbar\": True, \n",
    "          \"gamma\": 0.2, \n",
    "          \"scalebar\": True, \n",
    "          \"axes_ticks\": True,  \n",
    "          \"vmin\": 0, \n",
    "          \"vmax\": None, \n",
    "          \"cmap\": plt.get_cmap(\"jet\")}\n",
    "incident_probe.plot(**kwargs)"
   ]
  },
  {
   "cell_type": "markdown",
   "id": "33e4c086",
   "metadata": {},
   "source": [
    "### Potential slices ###"
   ]
  },
  {
   "cell_type": "code",
   "execution_count": null,
   "id": "b693fe3f",
   "metadata": {},
   "outputs": [],
   "source": [
    "# Higher-level programmatic approach.\n",
    "potential_slice_output_filename = \\\n",
    "    \"output-files/potential-slices.h5\"\n",
    "load_num_slices = prismatique.sim.output.common.load_num_slices\n",
    "num_slices = load_num_slices(potential_slice_output_filename)\n",
    "\n",
    "print(\"num_slices =\", num_slices)"
   ]
  },
  {
   "cell_type": "code",
   "execution_count": null,
   "id": "c7b29332",
   "metadata": {},
   "outputs": [],
   "source": [
    "# Higher-level programmatic approach.\n",
    "kwargs = {\"potential_slice_output_filename\": \"output-files/potential-slices.h5\",\n",
    "          \"atomic_config_idx\": 0, \n",
    "          \"slice_idx\": 60}\n",
    "\n",
    "potential_slice = prismatique.sim.output.common.load_potential_slice(**kwargs)"
   ]
  },
  {
   "cell_type": "code",
   "execution_count": null,
   "id": "40ee7551",
   "metadata": {},
   "outputs": [],
   "source": [
    "potential_slice.metadata"
   ]
  },
  {
   "cell_type": "code",
   "execution_count": null,
   "id": "b45f6aa5",
   "metadata": {
    "scrolled": false
   },
   "outputs": [],
   "source": [
    "# Note that you may need to resize the figure by dragging the bottom right arrow\n",
    "# on the inline figure frame in order for it to appear. Also note that the\n",
    "# ``scalebar`` keyword argument, when set to ``True``, will only result in a\n",
    "# figure containing a scale bar if the pixel sizes in the x and y directions\n",
    "# differ by no more than 1.0e-10, i.e. if the pixels are approximately squares.\n",
    "kwargs = {\"colorbar\": True, \n",
    "          \"gamma\": 0.2, \n",
    "          \"scalebar\": True, \n",
    "          \"axes_ticks\": True,  \n",
    "          \"vmin\": 0, \n",
    "          \"vmax\": None, \n",
    "          \"cmap\": plt.get_cmap(\"jet\")}\n",
    "potential_slice.plot(**kwargs)"
   ]
  },
  {
   "cell_type": "code",
   "execution_count": null,
   "id": "ee645599",
   "metadata": {},
   "outputs": [],
   "source": []
  }
 ],
 "metadata": {
  "kernelspec": {
   "display_name": "Python 3 (ipykernel)",
   "language": "python",
   "name": "python3"
  },
  "language_info": {
   "codemirror_mode": {
    "name": "ipython",
    "version": 3
   },
   "file_extension": ".py",
   "mimetype": "text/x-python",
   "name": "python",
   "nbconvert_exporter": "python",
   "pygments_lexer": "ipython3",
   "version": "3.9.7"
  }
 },
 "nbformat": 4,
 "nbformat_minor": 5
}
