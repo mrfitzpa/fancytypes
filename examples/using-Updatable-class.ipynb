{
 "cells": [
  {
   "cell_type": "markdown",
   "id": "6bb7f461",
   "metadata": {},
   "source": [
    "# Using the ``fancytypes.Updatable`` class #"
   ]
  },
  {
   "cell_type": "markdown",
   "id": "5d6d9cd7",
   "metadata": {},
   "source": [
    "## A NOTE BEFORE STARTING ##"
   ]
  },
  {
   "cell_type": "markdown",
   "id": "880421e9",
   "metadata": {},
   "source": [
    "Since the ``fancytypes`` git repository tracks this notebook under its original\n",
    "basename ``using-Updatable-class.ipynb``, we recommend that you copy the\n",
    "original notebook and rename it to any other basename that is not one of the\n",
    "original basenames that appear in the ``<root>/examples`` directory before\n",
    "executing any of the notebook cells below, where ``<root>`` is the root of the\n",
    "``fancytypes`` repository. This way you can explore the notebook by executing\n",
    "and modifying cells without changing the original notebook, which is being\n",
    "tracked by git."
   ]
  },
  {
   "cell_type": "markdown",
   "id": "12b0d90e",
   "metadata": {},
   "source": [
    "## Import necessary modules ##"
   ]
  },
  {
   "cell_type": "code",
   "execution_count": null,
   "id": "e7f9787f",
   "metadata": {},
   "outputs": [],
   "source": [
    "# For general array handling and constructing random number generators.\n",
    "import numpy as np\n",
    "\n",
    "\n",
    "\n",
    "# The library that is the subject of this demonstration.\n",
    "import fancytypes"
   ]
  },
  {
   "cell_type": "markdown",
   "id": "e667d633",
   "metadata": {},
   "source": [
    "## Introduction ##"
   ]
  },
  {
   "cell_type": "markdown",
   "id": "ec7f2509",
   "metadata": {},
   "source": [
    "In this notebook, we use the ``fancytypes.Updatable`` class to define a class of\n",
    "\"slice shufflers\", which we define as objects that can shuffle/re-order the\n",
    "elements in a slice of a given array. This is a somewhat contrived example use\n",
    "of the ``fancytypes.Updatable`` class, however it is simple and complete. \n",
    "\n",
    "You can find the documentation for the ``fancytypes.Updatable`` class\n",
    "[here](https://mrfitzpa.github.io/fancytypes/_build/html/_autosummary/fancytypes.Updatable.html). It\n",
    "is recommended that you consult the documentation of this class as you explore\n",
    "the notebook."
   ]
  },
  {
   "cell_type": "markdown",
   "id": "ee0993ba",
   "metadata": {},
   "source": [
    "## Defining the ``SliceShuffler`` class ##"
   ]
  },
  {
   "cell_type": "markdown",
   "id": "21a2529c",
   "metadata": {},
   "source": [
    "We define the ``SliceShuffler`` class as a subclass of the\n",
    "``fancytypes.Updatable`` class."
   ]
  },
  {
   "cell_type": "code",
   "execution_count": null,
   "id": "5bdd09c4",
   "metadata": {},
   "outputs": [],
   "source": [
    "# Define the validation and conversion functions.\n",
    "def _check_and_convert_slice_obj(ctor_params):\n",
    "    slice_obj = ctor_params[\"slice_obj\"]\n",
    "    if not isinstance(slice_obj, slice):\n",
    "        err_msg = (\"The object ``slice_obj`` must be of type `slice`.\")\n",
    "        raise TypeError(err_msg)\n",
    "\n",
    "    return slice_obj  # No conversion for this parameter/attribute.\n",
    "\n",
    "def _check_and_convert_seed(ctor_params):\n",
    "    seed = ctor_params[\"seed\"]\n",
    "    \n",
    "    if seed is not None:\n",
    "        try:\n",
    "            seed = float(seed)\n",
    "            if seed.is_integer():\n",
    "                seed = int(seed)\n",
    "            else:\n",
    "                raise TypeError\n",
    "        except:\n",
    "            err_msg = (\"The object ``seed`` must be an integer or `NoneType`.\")\n",
    "            raise TypeError(err_msg)\n",
    "            \n",
    "    return seed  # Conversion is implied under some circumstances.\n",
    "\n",
    "\n",
    "\n",
    "# Define the ``SliceShuffler`` class.\n",
    "class SliceShuffler(fancytypes.Updatable):\n",
    "    def __init__(self, slice_obj, seed):\n",
    "        ctor_params = {\"slice_obj\": slice_obj, \"seed\": seed}\n",
    "        validation_and_conversion_funcs = \\\n",
    "            {\"slice_obj\": _check_and_convert_slice_obj,\n",
    "             \"seed\": _check_and_convert_seed}\n",
    "        \n",
    "        checkable_obj = fancytypes.Checkable(ctor_params, \n",
    "                                             validation_and_conversion_funcs)\n",
    "\n",
    "        fancytypes.Updatable.__init__(self, checkable_obj)\n",
    "\n",
    "        # ``core_attrs`` are the \"core attributes\" of the instance.\n",
    "        seed = self.core_attrs[\"seed\"]\n",
    "        self._random_generator = np.random.default_rng(seed)\n",
    "\n",
    "        return None\n",
    "\n",
    "\n",
    "\n",
    "    def shuffle(self, array):\n",
    "        try:\n",
    "            array = np.array(array)\n",
    "        except:\n",
    "            err_msg = (\"The object ``array`` must be array-like.\")\n",
    "            raise TypeError(err_msg)\n",
    "            \n",
    "        slice_obj = self.core_attrs[\"slice_obj\"]\n",
    "        array_slice = array[slice_obj]\n",
    "        self._random_generator.shuffle(array_slice)\n",
    "        array[slice_obj] = array_slice\n",
    "\n",
    "        return array"
   ]
  },
  {
   "cell_type": "markdown",
   "id": "75d799c1",
   "metadata": {},
   "source": [
    "## Using the ``SliceShuffler`` class ##"
   ]
  },
  {
   "cell_type": "markdown",
   "id": "6666ce06",
   "metadata": {},
   "source": [
    "Construct a valid instance of the ``SliceShuffler`` class and print the core attributes."
   ]
  },
  {
   "cell_type": "code",
   "execution_count": null,
   "id": "bfc7801c",
   "metadata": {},
   "outputs": [],
   "source": [
    "slice_shuffler = SliceShuffler(slice_obj=slice(None, 6, 1), seed=5.0)\n",
    "\n",
    "print(slice_shuffler.core_attrs)"
   ]
  },
  {
   "cell_type": "markdown",
   "id": "b65c3b10",
   "metadata": {},
   "source": [
    "Shuffle an array using the class."
   ]
  },
  {
   "cell_type": "code",
   "execution_count": null,
   "id": "63b797ed",
   "metadata": {},
   "outputs": [],
   "source": [
    "array = [0, 1, 2, 3, 4, 5, 6, 7, 8, 9]\n",
    "shuffled_array = slice_shuffler.shuffle(array)\n",
    "shuffled_array"
   ]
  },
  {
   "cell_type": "markdown",
   "id": "0382bb49",
   "metadata": {},
   "source": [
    "Update slice shuffler and print the core attributes."
   ]
  },
  {
   "cell_type": "code",
   "execution_count": null,
   "id": "ce626156",
   "metadata": {},
   "outputs": [],
   "source": [
    "core_attr_subset = {\"slice_obj\": slice(3, None, 1)}\n",
    "slice_shuffler.update(core_attr_subset)\n",
    "\n",
    "print(slice_shuffler.core_attrs)"
   ]
  },
  {
   "cell_type": "markdown",
   "id": "d0470ee9",
   "metadata": {},
   "source": [
    "Shuffle the original array again."
   ]
  },
  {
   "cell_type": "code",
   "execution_count": null,
   "id": "f4a8fb70",
   "metadata": {},
   "outputs": [],
   "source": [
    "shuffled_array = slice_shuffler.shuffle(array)\n",
    "shuffled_array"
   ]
  },
  {
   "cell_type": "markdown",
   "id": "ef68ba33",
   "metadata": {},
   "source": [
    "Update slice shuffler and print the core attributes."
   ]
  },
  {
   "cell_type": "code",
   "execution_count": null,
   "id": "4dc960b7",
   "metadata": {},
   "outputs": [],
   "source": [
    "core_attr_subset = {\"slice_obj\": slice(3, 7, 1), \"seed\": 1.0}\n",
    "slice_shuffler.update(core_attr_subset)\n",
    "\n",
    "print(slice_shuffler.core_attrs)"
   ]
  },
  {
   "cell_type": "markdown",
   "id": "569f6517",
   "metadata": {},
   "source": [
    "Shuffle the original array again."
   ]
  },
  {
   "cell_type": "code",
   "execution_count": null,
   "id": "96fff60c",
   "metadata": {},
   "outputs": [],
   "source": [
    "shuffled_array = slice_shuffler.shuffle(array)\n",
    "shuffled_array"
   ]
  },
  {
   "cell_type": "markdown",
   "id": "326eb18b",
   "metadata": {},
   "source": [
    "Try constructing instances of the ``SliceShuffler`` class with invalid\n",
    "construction parameters."
   ]
  },
  {
   "cell_type": "code",
   "execution_count": null,
   "id": "f3d03af8",
   "metadata": {},
   "outputs": [],
   "source": [
    "slice_shuffler = SliceShuffler(slice_obj=3, seed=5.0)"
   ]
  },
  {
   "cell_type": "code",
   "execution_count": null,
   "id": "18357d52",
   "metadata": {},
   "outputs": [],
   "source": [
    "slice_shuffler = SliceShuffler(slice_obj=slice(None, 6, 1), seed=\"foo\")"
   ]
  },
  {
   "cell_type": "markdown",
   "id": "9b0157b2",
   "metadata": {},
   "source": [
    "Note that being a direct subclass of the ``fancytypes.Updatable`` class, the\n",
    "``SliceShuffler`` class supports updatable core attributes, and validation upon\n",
    "construction and updates, but it does not support pre-serialization, or\n",
    "de-pre-serializable.\n",
    "\n",
    "The ``fancytypes.Checkable`` class only supports validation upon constructing\n",
    "instances.\n",
    "\n",
    "The ``fancytypes.PreSerializable`` class supports pre-serialization,\n",
    "de-serialization, and enforces validation upon constructing instances, but it\n",
    "does not support updatable core attributes.\n",
    "\n",
    "The ``fancytypes.PreSerializableAndUpdatable`` class supports pre-serialization,\n",
    "de-serialization, updatable core attributes, and enforces validation upon\n",
    "constructing or updating instances."
   ]
  },
  {
   "cell_type": "markdown",
   "id": "ec922cbc",
   "metadata": {},
   "source": [
    "## Testing the exception-raising features of the ``fancytypes.Updatable`` class ##"
   ]
  },
  {
   "cell_type": "markdown",
   "id": "58d91c2c",
   "metadata": {},
   "source": [
    "There are no exception-raising features supported by the\n",
    "``fancytypes.Updatable`` class that have not already been tested for the\n",
    "``fancytypes.Checkable`` class in the notebook ``using-Checkable-class.ipynb``\n",
    "found in the same directory containing the current notebook."
   ]
  },
  {
   "cell_type": "code",
   "execution_count": null,
   "id": "aa76487a",
   "metadata": {},
   "outputs": [],
   "source": []
  }
 ],
 "metadata": {
  "kernelspec": {
   "display_name": "Python 3 (ipykernel)",
   "language": "python",
   "name": "python3"
  },
  "language_info": {
   "codemirror_mode": {
    "name": "ipython",
    "version": 3
   },
   "file_extension": ".py",
   "mimetype": "text/x-python",
   "name": "python",
   "nbconvert_exporter": "python",
   "pygments_lexer": "ipython3",
   "version": "3.9.7"
  }
 },
 "nbformat": 4,
 "nbformat_minor": 5
}
